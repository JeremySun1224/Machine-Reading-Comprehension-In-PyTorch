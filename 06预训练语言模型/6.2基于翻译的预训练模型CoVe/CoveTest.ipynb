{
  "nbformat": 4,
  "nbformat_minor": 0,
  "metadata": {
    "colab": {
      "name": "CoveTest.ipynb",
      "provenance": [],
      "collapsed_sections": []
    },
    "kernelspec": {
      "name": "python3",
      "display_name": "Python 3"
    },
    "widgets": {
      "application/vnd.jupyter.widget-state+json": {
        "241ad446428b440fb16c102b6a3e7ff2": {
          "model_module": "@jupyter-widgets/controls",
          "model_name": "HBoxModel",
          "state": {
            "_view_name": "HBoxView",
            "_dom_classes": [],
            "_model_name": "HBoxModel",
            "_view_module": "@jupyter-widgets/controls",
            "_model_module_version": "1.5.0",
            "_view_count": null,
            "_view_module_version": "1.5.0",
            "box_style": "",
            "layout": "IPY_MODEL_ba84a1deded14d0ba754288f54ac9ad6",
            "_model_module": "@jupyter-widgets/controls",
            "children": [
              "IPY_MODEL_b70f3efe21a540789f842361fbed5e13",
              "IPY_MODEL_cd29c4b7b3d0400b9b44436bc817a049"
            ]
          }
        },
        "ba84a1deded14d0ba754288f54ac9ad6": {
          "model_module": "@jupyter-widgets/base",
          "model_name": "LayoutModel",
          "state": {
            "_view_name": "LayoutView",
            "grid_template_rows": null,
            "right": null,
            "justify_content": null,
            "_view_module": "@jupyter-widgets/base",
            "overflow": null,
            "_model_module_version": "1.2.0",
            "_view_count": null,
            "flex_flow": null,
            "width": null,
            "min_width": null,
            "border": null,
            "align_items": null,
            "bottom": null,
            "_model_module": "@jupyter-widgets/base",
            "top": null,
            "grid_column": null,
            "overflow_y": null,
            "overflow_x": null,
            "grid_auto_flow": null,
            "grid_area": null,
            "grid_template_columns": null,
            "flex": null,
            "_model_name": "LayoutModel",
            "justify_items": null,
            "grid_row": null,
            "max_height": null,
            "align_content": null,
            "visibility": null,
            "align_self": null,
            "height": null,
            "min_height": null,
            "padding": null,
            "grid_auto_rows": null,
            "grid_gap": null,
            "max_width": null,
            "order": null,
            "_view_module_version": "1.2.0",
            "grid_template_areas": null,
            "object_position": null,
            "object_fit": null,
            "grid_auto_columns": null,
            "margin": null,
            "display": null,
            "left": null
          }
        },
        "b70f3efe21a540789f842361fbed5e13": {
          "model_module": "@jupyter-widgets/controls",
          "model_name": "FloatProgressModel",
          "state": {
            "_view_name": "ProgressView",
            "style": "IPY_MODEL_2aba810dbc354923a08da7e2e636831a",
            "_dom_classes": [],
            "description": "100%",
            "_model_name": "FloatProgressModel",
            "bar_style": "success",
            "max": 14440431,
            "_view_module": "@jupyter-widgets/controls",
            "_model_module_version": "1.5.0",
            "value": 14440431,
            "_view_count": null,
            "_view_module_version": "1.5.0",
            "orientation": "horizontal",
            "min": 0,
            "description_tooltip": null,
            "_model_module": "@jupyter-widgets/controls",
            "layout": "IPY_MODEL_a54acc1f60be4a17b9a6b63811411c18"
          }
        },
        "cd29c4b7b3d0400b9b44436bc817a049": {
          "model_module": "@jupyter-widgets/controls",
          "model_name": "HTMLModel",
          "state": {
            "_view_name": "HTMLView",
            "style": "IPY_MODEL_d679cde750b34c1db25584212fa328d1",
            "_dom_classes": [],
            "description": "",
            "_model_name": "HTMLModel",
            "placeholder": "​",
            "_view_module": "@jupyter-widgets/controls",
            "_model_module_version": "1.5.0",
            "value": " 13.8M/13.8M [00:00&lt;00:00, 51.4MB/s]",
            "_view_count": null,
            "_view_module_version": "1.5.0",
            "description_tooltip": null,
            "_model_module": "@jupyter-widgets/controls",
            "layout": "IPY_MODEL_fcac8806ba5b4b5d91b2386e3a936255"
          }
        },
        "2aba810dbc354923a08da7e2e636831a": {
          "model_module": "@jupyter-widgets/controls",
          "model_name": "ProgressStyleModel",
          "state": {
            "_view_name": "StyleView",
            "_model_name": "ProgressStyleModel",
            "description_width": "initial",
            "_view_module": "@jupyter-widgets/base",
            "_model_module_version": "1.5.0",
            "_view_count": null,
            "_view_module_version": "1.2.0",
            "bar_color": null,
            "_model_module": "@jupyter-widgets/controls"
          }
        },
        "a54acc1f60be4a17b9a6b63811411c18": {
          "model_module": "@jupyter-widgets/base",
          "model_name": "LayoutModel",
          "state": {
            "_view_name": "LayoutView",
            "grid_template_rows": null,
            "right": null,
            "justify_content": null,
            "_view_module": "@jupyter-widgets/base",
            "overflow": null,
            "_model_module_version": "1.2.0",
            "_view_count": null,
            "flex_flow": null,
            "width": null,
            "min_width": null,
            "border": null,
            "align_items": null,
            "bottom": null,
            "_model_module": "@jupyter-widgets/base",
            "top": null,
            "grid_column": null,
            "overflow_y": null,
            "overflow_x": null,
            "grid_auto_flow": null,
            "grid_area": null,
            "grid_template_columns": null,
            "flex": null,
            "_model_name": "LayoutModel",
            "justify_items": null,
            "grid_row": null,
            "max_height": null,
            "align_content": null,
            "visibility": null,
            "align_self": null,
            "height": null,
            "min_height": null,
            "padding": null,
            "grid_auto_rows": null,
            "grid_gap": null,
            "max_width": null,
            "order": null,
            "_view_module_version": "1.2.0",
            "grid_template_areas": null,
            "object_position": null,
            "object_fit": null,
            "grid_auto_columns": null,
            "margin": null,
            "display": null,
            "left": null
          }
        },
        "d679cde750b34c1db25584212fa328d1": {
          "model_module": "@jupyter-widgets/controls",
          "model_name": "DescriptionStyleModel",
          "state": {
            "_view_name": "StyleView",
            "_model_name": "DescriptionStyleModel",
            "description_width": "",
            "_view_module": "@jupyter-widgets/base",
            "_model_module_version": "1.5.0",
            "_view_count": null,
            "_view_module_version": "1.2.0",
            "_model_module": "@jupyter-widgets/controls"
          }
        },
        "fcac8806ba5b4b5d91b2386e3a936255": {
          "model_module": "@jupyter-widgets/base",
          "model_name": "LayoutModel",
          "state": {
            "_view_name": "LayoutView",
            "grid_template_rows": null,
            "right": null,
            "justify_content": null,
            "_view_module": "@jupyter-widgets/base",
            "overflow": null,
            "_model_module_version": "1.2.0",
            "_view_count": null,
            "flex_flow": null,
            "width": null,
            "min_width": null,
            "border": null,
            "align_items": null,
            "bottom": null,
            "_model_module": "@jupyter-widgets/base",
            "top": null,
            "grid_column": null,
            "overflow_y": null,
            "overflow_x": null,
            "grid_auto_flow": null,
            "grid_area": null,
            "grid_template_columns": null,
            "flex": null,
            "_model_name": "LayoutModel",
            "justify_items": null,
            "grid_row": null,
            "max_height": null,
            "align_content": null,
            "visibility": null,
            "align_self": null,
            "height": null,
            "min_height": null,
            "padding": null,
            "grid_auto_rows": null,
            "grid_gap": null,
            "max_width": null,
            "order": null,
            "_view_module_version": "1.2.0",
            "grid_template_areas": null,
            "object_position": null,
            "object_fit": null,
            "grid_auto_columns": null,
            "margin": null,
            "display": null,
            "left": null
          }
        }
      }
    }
  },
  "cells": [
    {
      "cell_type": "code",
      "metadata": {
        "id": "mESD00AOMQ47",
        "colab_type": "code",
        "outputId": "06d9f34b-6d5a-44c5-fdb1-cb02528e348b",
        "colab": {
          "base_uri": "https://localhost:8080/",
          "height": 323
        }
      },
      "source": [
        "!nvidia-smi"
      ],
      "execution_count": 5,
      "outputs": [
        {
          "output_type": "stream",
          "text": [
            "Sat Jun  6 15:26:29 2020       \n",
            "+-----------------------------------------------------------------------------+\n",
            "| NVIDIA-SMI 440.82       Driver Version: 418.67       CUDA Version: 10.1     |\n",
            "|-------------------------------+----------------------+----------------------+\n",
            "| GPU  Name        Persistence-M| Bus-Id        Disp.A | Volatile Uncorr. ECC |\n",
            "| Fan  Temp  Perf  Pwr:Usage/Cap|         Memory-Usage | GPU-Util  Compute M. |\n",
            "|===============================+======================+======================|\n",
            "|   0  Tesla P100-PCIE...  Off  | 00000000:00:04.0 Off |                    0 |\n",
            "| N/A   32C    P0    26W / 250W |      0MiB / 16280MiB |      0%      Default |\n",
            "+-------------------------------+----------------------+----------------------+\n",
            "                                                                               \n",
            "+-----------------------------------------------------------------------------+\n",
            "| Processes:                                                       GPU Memory |\n",
            "|  GPU       PID   Type   Process name                             Usage      |\n",
            "|=============================================================================|\n",
            "|  No running processes found                                                 |\n",
            "+-----------------------------------------------------------------------------+\n"
          ],
          "name": "stdout"
        }
      ]
    },
    {
      "cell_type": "code",
      "metadata": {
        "id": "e1WKEB8dRtNH",
        "colab_type": "code",
        "colab": {
          "base_uri": "https://localhost:8080/",
          "height": 35
        },
        "outputId": "b50ca41c-bcf7-4376-9e26-ff9f9f680a42"
      },
      "source": [
        "%cd ./drive/My Drive/PyTorch"
      ],
      "execution_count": 3,
      "outputs": [
        {
          "output_type": "stream",
          "text": [
            "/content/drive/My Drive/PyTorch\n"
          ],
          "name": "stdout"
        }
      ]
    },
    {
      "cell_type": "code",
      "metadata": {
        "id": "tmbmMutxR8tp",
        "colab_type": "code",
        "colab": {}
      },
      "source": [
        "# !git clone https://github.com/salesforce/cove.git"
      ],
      "execution_count": 0,
      "outputs": []
    },
    {
      "cell_type": "code",
      "metadata": {
        "id": "YHa_sa44R_Ln",
        "colab_type": "code",
        "colab": {
          "base_uri": "https://localhost:8080/",
          "height": 35
        },
        "outputId": "178eb7d7-4825-4ffc-a057-249139a44ae1"
      },
      "source": [
        "!ls"
      ],
      "execution_count": 5,
      "outputs": [
        {
          "output_type": "stream",
          "text": [
            "cove  CoveTest.ipynb\n"
          ],
          "name": "stdout"
        }
      ]
    },
    {
      "cell_type": "code",
      "metadata": {
        "id": "3gCXdS7RSGZx",
        "colab_type": "code",
        "colab": {
          "base_uri": "https://localhost:8080/",
          "height": 35
        },
        "outputId": "beb275d5-84c0-4bb1-811e-0b80fc269eb7"
      },
      "source": [
        "%cd ./cove"
      ],
      "execution_count": 6,
      "outputs": [
        {
          "output_type": "stream",
          "text": [
            "/content/drive/My Drive/PyTorch/cove\n"
          ],
          "name": "stdout"
        }
      ]
    },
    {
      "cell_type": "code",
      "metadata": {
        "id": "sUky9mMFSZ_O",
        "colab_type": "code",
        "colab": {
          "base_uri": "https://localhost:8080/",
          "height": 53
        },
        "outputId": "111f0d31-364d-48b8-ef4f-6334c93a0983"
      },
      "source": [
        "!ls"
      ],
      "execution_count": 7,
      "outputs": [
        {
          "output_type": "stream",
          "text": [
            "cove\t    get_data.sh  OpenNMT-py  requirements.txt  test\n",
            "Dockerfile  LICENSE\t README.md   setup.py\t       wmt_clean.py\n"
          ],
          "name": "stdout"
        }
      ]
    },
    {
      "cell_type": "code",
      "metadata": {
        "id": "OF3nFiexfwEk",
        "colab_type": "code",
        "colab": {}
      },
      "source": [
        "# 安装所需软件包"
      ],
      "execution_count": 0,
      "outputs": []
    },
    {
      "cell_type": "code",
      "metadata": {
        "id": "jhEkw5RuSg0_",
        "colab_type": "code",
        "colab": {
          "base_uri": "https://localhost:8080/",
          "height": 1000
        },
        "outputId": "7aa1ae70-5a9a-4193-975d-e22c0509c5c8"
      },
      "source": [
        "!pip install -r ./requirements.txt"
      ],
      "execution_count": 8,
      "outputs": [
        {
          "output_type": "stream",
          "text": [
            "Collecting git+git://github.com/jekbradbury/revtok.git (from -r https://raw.githubusercontent.com/pytorch/text/master/requirements.txt (line 11))\n",
            "  Cloning git://github.com/jekbradbury/revtok.git to /tmp/pip-req-build-10vfyxwn\n",
            "  Running command git clone -q git://github.com/jekbradbury/revtok.git /tmp/pip-req-build-10vfyxwn\n",
            "Collecting git+https://github.com/pytorch/text.git (from -r ./requirements.txt (line 2))\n",
            "  Cloning https://github.com/pytorch/text.git to /tmp/pip-req-build-dyzkfool\n",
            "  Running command git clone -q https://github.com/pytorch/text.git /tmp/pip-req-build-dyzkfool\n",
            "  Running command git submodule update --init --recursive -q\n",
            "Requirement already satisfied: tqdm in /usr/local/lib/python3.6/dist-packages (from -r https://raw.githubusercontent.com/pytorch/text/master/requirements.txt (line 2)) (4.41.1)\n",
            "Requirement already satisfied: requests in /usr/local/lib/python3.6/dist-packages (from -r https://raw.githubusercontent.com/pytorch/text/master/requirements.txt (line 5)) (2.23.0)\n",
            "Requirement already satisfied: nltk in /usr/local/lib/python3.6/dist-packages (from -r https://raw.githubusercontent.com/pytorch/text/master/requirements.txt (line 8)) (3.2.5)\n",
            "Requirement already satisfied: spacy in /usr/local/lib/python3.6/dist-packages (from -r https://raw.githubusercontent.com/pytorch/text/master/requirements.txt (line 9)) (2.2.4)\n",
            "Collecting sacremoses\n",
            "\u001b[?25l  Downloading https://files.pythonhosted.org/packages/7d/34/09d19aff26edcc8eb2a01bed8e98f13a1537005d31e95233fd48216eed10/sacremoses-0.0.43.tar.gz (883kB)\n",
            "\u001b[K     |████████████████████████████████| 890kB 2.8MB/s \n",
            "\u001b[?25hRequirement already satisfied: Sphinx in /usr/local/lib/python3.6/dist-packages (from -r https://raw.githubusercontent.com/pytorch/text/master/requirements.txt (line 14)) (1.8.5)\n",
            "Collecting sphinx_rtd_theme\n",
            "\u001b[?25l  Downloading https://files.pythonhosted.org/packages/60/b4/4df37087a1d36755e3a3bfd2a30263f358d2dea21938240fa02313d45f51/sphinx_rtd_theme-0.4.3-py2.py3-none-any.whl (6.4MB)\n",
            "\u001b[K     |████████████████████████████████| 6.4MB 12.5MB/s \n",
            "\u001b[?25hCollecting flake8==3.7.9\n",
            "\u001b[?25l  Downloading https://files.pythonhosted.org/packages/f8/1f/7ea40d1e4146ea55dbab41cda1376db092a75794914169aabd7e8d7a7def/flake8-3.7.9-py2.py3-none-any.whl (69kB)\n",
            "\u001b[K     |████████████████████████████████| 71kB 8.6MB/s \n",
            "\u001b[?25hRequirement already satisfied: pytest in /usr/local/lib/python3.6/dist-packages (from -r https://raw.githubusercontent.com/pytorch/text/master/requirements.txt (line 23)) (3.6.4)\n",
            "Collecting pytest-pythonpath\n",
            "  Downloading https://files.pythonhosted.org/packages/46/c1/4b784495bb316962962df191b3c1b2302c60236301406283a9de1470786f/pytest-pythonpath-0.7.3.tar.gz\n",
            "Collecting pytest-cov\n",
            "  Downloading https://files.pythonhosted.org/packages/b4/4d/56896f913ea61f0ba504c912bdd748f11e45ef14d5d40975bc8322dccfa0/pytest_cov-2.9.0-py2.py3-none-any.whl\n",
            "Collecting codecov\n",
            "  Downloading https://files.pythonhosted.org/packages/7f/0c/d7125739e8b9f5b7e4a5a9562f678a9421a5521c48e81b557604d8ac0d47/codecov-2.1.4-py2.py3-none-any.whl\n",
            "Requirement already satisfied: torch in /usr/local/lib/python3.6/dist-packages (from torchtext==0.6.0a0+96deabd->-r ./requirements.txt (line 2)) (1.5.0+cu101)\n",
            "Requirement already satisfied: numpy in /usr/local/lib/python3.6/dist-packages (from torchtext==0.6.0a0+96deabd->-r ./requirements.txt (line 2)) (1.18.4)\n",
            "Collecting sentencepiece\n",
            "\u001b[?25l  Downloading https://files.pythonhosted.org/packages/d4/a4/d0a884c4300004a78cca907a6ff9a5e9fe4f090f5d95ab341c53d28cbc58/sentencepiece-0.1.91-cp36-cp36m-manylinux1_x86_64.whl (1.1MB)\n",
            "\u001b[K     |████████████████████████████████| 1.1MB 48.1MB/s \n",
            "\u001b[?25hRequirement already satisfied: idna<3,>=2.5 in /usr/local/lib/python3.6/dist-packages (from requests->-r https://raw.githubusercontent.com/pytorch/text/master/requirements.txt (line 5)) (2.9)\n",
            "Requirement already satisfied: chardet<4,>=3.0.2 in /usr/local/lib/python3.6/dist-packages (from requests->-r https://raw.githubusercontent.com/pytorch/text/master/requirements.txt (line 5)) (3.0.4)\n",
            "Requirement already satisfied: urllib3!=1.25.0,!=1.25.1,<1.26,>=1.21.1 in /usr/local/lib/python3.6/dist-packages (from requests->-r https://raw.githubusercontent.com/pytorch/text/master/requirements.txt (line 5)) (1.24.3)\n",
            "Requirement already satisfied: certifi>=2017.4.17 in /usr/local/lib/python3.6/dist-packages (from requests->-r https://raw.githubusercontent.com/pytorch/text/master/requirements.txt (line 5)) (2020.4.5.1)\n",
            "Requirement already satisfied: six in /usr/local/lib/python3.6/dist-packages (from nltk->-r https://raw.githubusercontent.com/pytorch/text/master/requirements.txt (line 8)) (1.12.0)\n",
            "Requirement already satisfied: catalogue<1.1.0,>=0.0.7 in /usr/local/lib/python3.6/dist-packages (from spacy->-r https://raw.githubusercontent.com/pytorch/text/master/requirements.txt (line 9)) (1.0.0)\n",
            "Requirement already satisfied: preshed<3.1.0,>=3.0.2 in /usr/local/lib/python3.6/dist-packages (from spacy->-r https://raw.githubusercontent.com/pytorch/text/master/requirements.txt (line 9)) (3.0.2)\n",
            "Requirement already satisfied: murmurhash<1.1.0,>=0.28.0 in /usr/local/lib/python3.6/dist-packages (from spacy->-r https://raw.githubusercontent.com/pytorch/text/master/requirements.txt (line 9)) (1.0.2)\n",
            "Requirement already satisfied: cymem<2.1.0,>=2.0.2 in /usr/local/lib/python3.6/dist-packages (from spacy->-r https://raw.githubusercontent.com/pytorch/text/master/requirements.txt (line 9)) (2.0.3)\n",
            "Requirement already satisfied: thinc==7.4.0 in /usr/local/lib/python3.6/dist-packages (from spacy->-r https://raw.githubusercontent.com/pytorch/text/master/requirements.txt (line 9)) (7.4.0)\n",
            "Requirement already satisfied: srsly<1.1.0,>=1.0.2 in /usr/local/lib/python3.6/dist-packages (from spacy->-r https://raw.githubusercontent.com/pytorch/text/master/requirements.txt (line 9)) (1.0.2)\n",
            "Requirement already satisfied: setuptools in /usr/local/lib/python3.6/dist-packages (from spacy->-r https://raw.githubusercontent.com/pytorch/text/master/requirements.txt (line 9)) (47.1.1)\n",
            "Requirement already satisfied: blis<0.5.0,>=0.4.0 in /usr/local/lib/python3.6/dist-packages (from spacy->-r https://raw.githubusercontent.com/pytorch/text/master/requirements.txt (line 9)) (0.4.1)\n",
            "Requirement already satisfied: wasabi<1.1.0,>=0.4.0 in /usr/local/lib/python3.6/dist-packages (from spacy->-r https://raw.githubusercontent.com/pytorch/text/master/requirements.txt (line 9)) (0.6.0)\n",
            "Requirement already satisfied: plac<1.2.0,>=0.9.6 in /usr/local/lib/python3.6/dist-packages (from spacy->-r https://raw.githubusercontent.com/pytorch/text/master/requirements.txt (line 9)) (1.1.3)\n",
            "Requirement already satisfied: regex in /usr/local/lib/python3.6/dist-packages (from sacremoses->-r https://raw.githubusercontent.com/pytorch/text/master/requirements.txt (line 10)) (2019.12.20)\n",
            "Requirement already satisfied: click in /usr/local/lib/python3.6/dist-packages (from sacremoses->-r https://raw.githubusercontent.com/pytorch/text/master/requirements.txt (line 10)) (7.1.2)\n",
            "Requirement already satisfied: joblib in /usr/local/lib/python3.6/dist-packages (from sacremoses->-r https://raw.githubusercontent.com/pytorch/text/master/requirements.txt (line 10)) (0.15.1)\n",
            "Requirement already satisfied: snowballstemmer>=1.1 in /usr/local/lib/python3.6/dist-packages (from Sphinx->-r https://raw.githubusercontent.com/pytorch/text/master/requirements.txt (line 14)) (2.0.0)\n",
            "Requirement already satisfied: sphinxcontrib-websupport in /usr/local/lib/python3.6/dist-packages (from Sphinx->-r https://raw.githubusercontent.com/pytorch/text/master/requirements.txt (line 14)) (1.2.2)\n",
            "Requirement already satisfied: imagesize in /usr/local/lib/python3.6/dist-packages (from Sphinx->-r https://raw.githubusercontent.com/pytorch/text/master/requirements.txt (line 14)) (1.2.0)\n",
            "Requirement already satisfied: babel!=2.0,>=1.3 in /usr/local/lib/python3.6/dist-packages (from Sphinx->-r https://raw.githubusercontent.com/pytorch/text/master/requirements.txt (line 14)) (2.8.0)\n",
            "Requirement already satisfied: docutils>=0.11 in /usr/local/lib/python3.6/dist-packages (from Sphinx->-r https://raw.githubusercontent.com/pytorch/text/master/requirements.txt (line 14)) (0.15.2)\n",
            "Requirement already satisfied: Jinja2>=2.3 in /usr/local/lib/python3.6/dist-packages (from Sphinx->-r https://raw.githubusercontent.com/pytorch/text/master/requirements.txt (line 14)) (2.11.2)\n",
            "Requirement already satisfied: Pygments>=2.0 in /usr/local/lib/python3.6/dist-packages (from Sphinx->-r https://raw.githubusercontent.com/pytorch/text/master/requirements.txt (line 14)) (2.1.3)\n",
            "Requirement already satisfied: alabaster<0.8,>=0.7 in /usr/local/lib/python3.6/dist-packages (from Sphinx->-r https://raw.githubusercontent.com/pytorch/text/master/requirements.txt (line 14)) (0.7.12)\n",
            "Requirement already satisfied: packaging in /usr/local/lib/python3.6/dist-packages (from Sphinx->-r https://raw.githubusercontent.com/pytorch/text/master/requirements.txt (line 14)) (20.4)\n",
            "Requirement already satisfied: entrypoints<0.4.0,>=0.3.0 in /usr/local/lib/python3.6/dist-packages (from flake8==3.7.9->-r https://raw.githubusercontent.com/pytorch/text/master/requirements.txt (line 20)) (0.3)\n",
            "Collecting mccabe<0.7.0,>=0.6.0\n",
            "  Downloading https://files.pythonhosted.org/packages/87/89/479dc97e18549e21354893e4ee4ef36db1d237534982482c3681ee6e7b57/mccabe-0.6.1-py2.py3-none-any.whl\n",
            "Collecting pycodestyle<2.6.0,>=2.5.0\n",
            "\u001b[?25l  Downloading https://files.pythonhosted.org/packages/0e/0c/04a353e104d2f324f8ee5f4b32012618c1c86dd79e52a433b64fceed511b/pycodestyle-2.5.0-py2.py3-none-any.whl (51kB)\n",
            "\u001b[K     |████████████████████████████████| 51kB 6.6MB/s \n",
            "\u001b[?25hCollecting pyflakes<2.2.0,>=2.1.0\n",
            "\u001b[?25l  Downloading https://files.pythonhosted.org/packages/84/f2/ed0ffb887f8138a8fe5a621b8c0bb9598bfb3989e029f6c6a85ee66628ee/pyflakes-2.1.1-py2.py3-none-any.whl (59kB)\n",
            "\u001b[K     |████████████████████████████████| 61kB 7.6MB/s \n",
            "\u001b[?25hRequirement already satisfied: atomicwrites>=1.0 in /usr/local/lib/python3.6/dist-packages (from pytest->-r https://raw.githubusercontent.com/pytorch/text/master/requirements.txt (line 23)) (1.4.0)\n",
            "Requirement already satisfied: more-itertools>=4.0.0 in /usr/local/lib/python3.6/dist-packages (from pytest->-r https://raw.githubusercontent.com/pytorch/text/master/requirements.txt (line 23)) (8.3.0)\n",
            "Requirement already satisfied: attrs>=17.4.0 in /usr/local/lib/python3.6/dist-packages (from pytest->-r https://raw.githubusercontent.com/pytorch/text/master/requirements.txt (line 23)) (19.3.0)\n",
            "Requirement already satisfied: py>=1.5.0 in /usr/local/lib/python3.6/dist-packages (from pytest->-r https://raw.githubusercontent.com/pytorch/text/master/requirements.txt (line 23)) (1.8.1)\n",
            "Requirement already satisfied: pluggy<0.8,>=0.5 in /usr/local/lib/python3.6/dist-packages (from pytest->-r https://raw.githubusercontent.com/pytorch/text/master/requirements.txt (line 23)) (0.7.1)\n",
            "Collecting coverage>=4.4\n",
            "\u001b[?25l  Downloading https://files.pythonhosted.org/packages/2a/3e/fc18ecef69f174c13493576f46966053c1da07fd8721962530dc1a10b1ca/coverage-5.1-cp36-cp36m-manylinux1_x86_64.whl (227kB)\n",
            "\u001b[K     |████████████████████████████████| 235kB 41.6MB/s \n",
            "\u001b[?25hRequirement already satisfied: future in /usr/local/lib/python3.6/dist-packages (from torch->torchtext==0.6.0a0+96deabd->-r ./requirements.txt (line 2)) (0.16.0)\n",
            "Requirement already satisfied: importlib-metadata>=0.20; python_version < \"3.8\" in /usr/local/lib/python3.6/dist-packages (from catalogue<1.1.0,>=0.0.7->spacy->-r https://raw.githubusercontent.com/pytorch/text/master/requirements.txt (line 9)) (1.6.0)\n",
            "Requirement already satisfied: pytz>=2015.7 in /usr/local/lib/python3.6/dist-packages (from babel!=2.0,>=1.3->Sphinx->-r https://raw.githubusercontent.com/pytorch/text/master/requirements.txt (line 14)) (2018.9)\n",
            "Requirement already satisfied: MarkupSafe>=0.23 in /usr/local/lib/python3.6/dist-packages (from Jinja2>=2.3->Sphinx->-r https://raw.githubusercontent.com/pytorch/text/master/requirements.txt (line 14)) (1.1.1)\n",
            "Requirement already satisfied: pyparsing>=2.0.2 in /usr/local/lib/python3.6/dist-packages (from packaging->Sphinx->-r https://raw.githubusercontent.com/pytorch/text/master/requirements.txt (line 14)) (2.4.7)\n",
            "Requirement already satisfied: zipp>=0.5 in /usr/local/lib/python3.6/dist-packages (from importlib-metadata>=0.20; python_version < \"3.8\"->catalogue<1.1.0,>=0.0.7->spacy->-r https://raw.githubusercontent.com/pytorch/text/master/requirements.txt (line 9)) (3.1.0)\n",
            "Building wheels for collected packages: sacremoses, pytest-pythonpath, revtok, torchtext\n",
            "  Building wheel for sacremoses (setup.py) ... \u001b[?25l\u001b[?25hdone\n",
            "  Created wheel for sacremoses: filename=sacremoses-0.0.43-cp36-none-any.whl size=893260 sha256=e48f57def1945f03da9a599f0eca800e346f5ee2a786e43ce01512a27b1fe80a\n",
            "  Stored in directory: /root/.cache/pip/wheels/29/3c/fd/7ce5c3f0666dab31a50123635e6fb5e19ceb42ce38d4e58f45\n",
            "  Building wheel for pytest-pythonpath (setup.py) ... \u001b[?25l\u001b[?25hdone\n",
            "  Created wheel for pytest-pythonpath: filename=pytest_pythonpath-0.7.3-cp36-none-any.whl size=3049 sha256=fd19976ec3f247d840a26c8cf6e61d9e2c78306cf34dbdcfdcbdb6212a2447e6\n",
            "  Stored in directory: /root/.cache/pip/wheels/62/b3/f2/c71e3d66868019a971d07924a12a2d28e65694bfeaac95ac77\n",
            "  Building wheel for revtok (setup.py) ... \u001b[?25l\u001b[?25hdone\n",
            "  Created wheel for revtok: filename=revtok-0.0.3-cp36-none-any.whl size=5183 sha256=c702f1f42b95d9a235c97e050b99b086e7e9b4865275899de8c3a4e88834c104\n",
            "  Stored in directory: /tmp/pip-ephem-wheel-cache-6655w6gw/wheels/7a/ea/8a/6728347664cd622aaf563f3a46e68338f671f30c1b642006f2\n",
            "  Building wheel for torchtext (setup.py) ... \u001b[?25l\u001b[?25hdone\n",
            "  Created wheel for torchtext: filename=torchtext-0.6.0a0+96deabd-cp36-cp36m-linux_x86_64.whl size=3211825 sha256=965ab876ec02741f2e2c672088a4cf2478402b05d9013e7ba5393c76a8565f4c\n",
            "  Stored in directory: /tmp/pip-ephem-wheel-cache-6655w6gw/wheels/09/f9/ed/0e37c2b62298f9b1225412431e805e89206cbde3a0bac44327\n",
            "Successfully built sacremoses pytest-pythonpath revtok torchtext\n",
            "\u001b[31mERROR: datascience 0.10.6 has requirement coverage==3.7.1, but you'll have coverage 5.1 which is incompatible.\u001b[0m\n",
            "\u001b[31mERROR: datascience 0.10.6 has requirement folium==0.2.1, but you'll have folium 0.8.3 which is incompatible.\u001b[0m\n",
            "\u001b[31mERROR: coveralls 0.5 has requirement coverage<3.999,>=3.6, but you'll have coverage 5.1 which is incompatible.\u001b[0m\n",
            "Installing collected packages: sacremoses, sphinx-rtd-theme, mccabe, pycodestyle, pyflakes, flake8, pytest-pythonpath, coverage, pytest-cov, codecov, revtok, sentencepiece, torchtext\n",
            "  Found existing installation: coverage 3.7.1\n",
            "    Uninstalling coverage-3.7.1:\n",
            "      Successfully uninstalled coverage-3.7.1\n",
            "  Found existing installation: torchtext 0.3.1\n",
            "    Uninstalling torchtext-0.3.1:\n",
            "      Successfully uninstalled torchtext-0.3.1\n",
            "Successfully installed codecov-2.1.4 coverage-5.1 flake8-3.7.9 mccabe-0.6.1 pycodestyle-2.5.0 pyflakes-2.1.1 pytest-cov-2.9.0 pytest-pythonpath-0.7.3 revtok-0.0.3 sacremoses-0.0.43 sentencepiece-0.1.91 sphinx-rtd-theme-0.4.3 torchtext-0.6.0a0+96deabd\n"
          ],
          "name": "stdout"
        }
      ]
    },
    {
      "cell_type": "code",
      "metadata": {
        "id": "LM1vv6NSVKEl",
        "colab_type": "code",
        "colab": {}
      },
      "source": [
        "# 安装CoVe"
      ],
      "execution_count": 0,
      "outputs": []
    },
    {
      "cell_type": "code",
      "metadata": {
        "id": "DDIDmsAwWcRF",
        "colab_type": "code",
        "colab": {
          "base_uri": "https://localhost:8080/",
          "height": 287
        },
        "outputId": "0772e7a8-1edb-4753-faee-9abbe79e73d1"
      },
      "source": [
        "!python setup.py develop"
      ],
      "execution_count": 10,
      "outputs": [
        {
          "output_type": "stream",
          "text": [
            "running develop\n",
            "running egg_info\n",
            "creating cove.egg-info\n",
            "writing cove.egg-info/PKG-INFO\n",
            "writing dependency_links to cove.egg-info/dependency_links.txt\n",
            "writing top-level names to cove.egg-info/top_level.txt\n",
            "writing manifest file 'cove.egg-info/SOURCES.txt'\n",
            "writing manifest file 'cove.egg-info/SOURCES.txt'\n",
            "running build_ext\n",
            "Creating /usr/local/lib/python3.6/dist-packages/cove.egg-link (link to .)\n",
            "Adding cove 1.0.0 to easy-install.pth file\n",
            "\n",
            "Installed /content/drive/My Drive/PyTorch/cove\n",
            "Processing dependencies for cove==1.0.0\n",
            "Finished processing dependencies for cove==1.0.0\n"
          ],
          "name": "stdout"
        }
      ]
    },
    {
      "cell_type": "code",
      "metadata": {
        "id": "0sQFCBDSWj9c",
        "colab_type": "code",
        "colab": {}
      },
      "source": [
        "import torch\n",
        "from torchtext.vocab import GloVe\n",
        "from cove import MTLSTM"
      ],
      "execution_count": 0,
      "outputs": []
    },
    {
      "cell_type": "code",
      "metadata": {
        "id": "pxY1A4iAW6x9",
        "colab_type": "code",
        "colab": {}
      },
      "source": [
        "# GloVe词表，维度为2.1*10^6*3"
      ],
      "execution_count": 0,
      "outputs": []
    },
    {
      "cell_type": "code",
      "metadata": {
        "id": "DmN0EzzvXhNu",
        "colab_type": "code",
        "colab": {
          "base_uri": "https://localhost:8080/",
          "height": 53
        },
        "outputId": "4101957b-4cfc-4c05-f2c5-e284756bff5b"
      },
      "source": [
        "glove = GloVe(name='840B', dim=300, cache='.embeddings')"
      ],
      "execution_count": 13,
      "outputs": [
        {
          "output_type": "stream",
          "text": [
            ".embeddings/glove.840B.300d.zip: 2.18GB [16:54, 2.15MB/s]                            \n",
            "100%|█████████▉| 2195422/2196017 [05:44<00:00, 8903.84it/s]"
          ],
          "name": "stderr"
        }
      ]
    },
    {
      "cell_type": "code",
      "metadata": {
        "id": "SuYEFGT4YT_O",
        "colab_type": "code",
        "colab": {}
      },
      "source": [
        "# 输入2个句子，每个句子中每个单词在词表中的编号"
      ],
      "execution_count": 0,
      "outputs": []
    },
    {
      "cell_type": "code",
      "metadata": {
        "id": "Do8uamWYclim",
        "colab_type": "code",
        "colab": {
          "base_uri": "https://localhost:8080/",
          "height": 53
        },
        "outputId": "0c5e40d6-a915-4982-e260-ff2604107e25"
      },
      "source": [
        "inputs = torch.LongTensor([[10, 2, 3, 0], [7, 8, 10, 3]]);inputs"
      ],
      "execution_count": 15,
      "outputs": [
        {
          "output_type": "execute_result",
          "data": {
            "text/plain": [
              "tensor([[10,  2,  3,  0],\n",
              "        [ 7,  8, 10,  3]])"
            ]
          },
          "metadata": {
            "tags": []
          },
          "execution_count": 15
        }
      ]
    },
    {
      "cell_type": "code",
      "metadata": {
        "id": "7dxuZfjvejzi",
        "colab_type": "code",
        "colab": {}
      },
      "source": [
        "# 两个句子的长度分别为3和4"
      ],
      "execution_count": 0,
      "outputs": []
    },
    {
      "cell_type": "code",
      "metadata": {
        "id": "cVGtOvobep3_",
        "colab_type": "code",
        "colab": {
          "base_uri": "https://localhost:8080/",
          "height": 35
        },
        "outputId": "8378c311-a837-41f6-f95f-e2a5bea38900"
      },
      "source": [
        "lengths = torch.LongTensor([3, 4]);lengths"
      ],
      "execution_count": 17,
      "outputs": [
        {
          "output_type": "execute_result",
          "data": {
            "text/plain": [
              "tensor([3, 4])"
            ]
          },
          "metadata": {
            "tags": []
          },
          "execution_count": 17
        }
      ]
    },
    {
      "cell_type": "code",
      "metadata": {
        "id": "gCQTRoEVe1rN",
        "colab_type": "code",
        "colab": {}
      },
      "source": [
        "# CoVe类"
      ],
      "execution_count": 0,
      "outputs": []
    },
    {
      "cell_type": "code",
      "metadata": {
        "id": "QPne3sjFe4ky",
        "colab_type": "code",
        "colab": {
          "base_uri": "https://localhost:8080/",
          "height": 85,
          "referenced_widgets": [
            "241ad446428b440fb16c102b6a3e7ff2",
            "ba84a1deded14d0ba754288f54ac9ad6",
            "b70f3efe21a540789f842361fbed5e13",
            "cd29c4b7b3d0400b9b44436bc817a049",
            "2aba810dbc354923a08da7e2e636831a",
            "a54acc1f60be4a17b9a6b63811411c18",
            "d679cde750b34c1db25584212fa328d1",
            "fcac8806ba5b4b5d91b2386e3a936255"
          ]
        },
        "outputId": "3995412c-dc10-41f5-bb34-287ac195512c"
      },
      "source": [
        "cove = MTLSTM(n_vocab=glove.vectors.shape[0], vectors=glove.vectors, model_cache='.embeddings')"
      ],
      "execution_count": 19,
      "outputs": [
        {
          "output_type": "stream",
          "text": [
            "Downloading: \"https://s3.amazonaws.com/research.metamind.io/cove/wmtlstm-8f474287.pth\" to .embeddings/wmtlstm-8f474287.pth\n"
          ],
          "name": "stderr"
        },
        {
          "output_type": "display_data",
          "data": {
            "application/vnd.jupyter.widget-view+json": {
              "model_id": "241ad446428b440fb16c102b6a3e7ff2",
              "version_minor": 0,
              "version_major": 2
            },
            "text/plain": [
              "HBox(children=(FloatProgress(value=0.0, max=14440431.0), HTML(value='')))"
            ]
          },
          "metadata": {
            "tags": []
          }
        },
        {
          "output_type": "stream",
          "text": [
            "\n"
          ],
          "name": "stdout"
        }
      ]
    },
    {
      "cell_type": "code",
      "metadata": {
        "id": "e1z0YIvnfQfD",
        "colab_type": "code",
        "colab": {}
      },
      "source": [
        "# 每个句子每个单词的CoVe编码，维度为2*4*600"
      ],
      "execution_count": 0,
      "outputs": []
    },
    {
      "cell_type": "code",
      "metadata": {
        "id": "tfEZSCr0fcQY",
        "colab_type": "code",
        "colab": {
          "base_uri": "https://localhost:8080/",
          "height": 179
        },
        "outputId": "d9fe6dd5-5db7-40f5-fe7b-c1a31a00483f"
      },
      "source": [
        "outputs = cove(inputs, lengths);outputs"
      ],
      "execution_count": 21,
      "outputs": [
        {
          "output_type": "execute_result",
          "data": {
            "text/plain": [
              "tensor([[[ 0.0022, -0.0025, -0.0006,  ..., -0.0115,  0.0006,  0.0053],\n",
              "         [ 0.0029,  0.0088, -0.0009,  ..., -0.0060, -0.0003,  0.0017],\n",
              "         [ 0.0056, -0.1044, -0.0194,  ...,  0.0117,  0.0059,  0.0033],\n",
              "         [ 0.0000,  0.0000,  0.0000,  ...,  0.0000,  0.0000,  0.0000]],\n",
              "\n",
              "        [[ 0.0080,  0.0234,  0.0019,  ...,  0.0128,  0.0041,  0.0154],\n",
              "         [ 0.0105, -0.0049,  0.0007,  ...,  0.0111, -0.0014,  0.0320],\n",
              "         [ 0.0103,  0.0004, -0.0003,  ..., -0.0099, -0.0003,  0.0112],\n",
              "         [ 0.0151, -0.1938,  0.0019,  ...,  0.0128, -0.0014,  0.0055]]])"
            ]
          },
          "metadata": {
            "tags": []
          },
          "execution_count": 21
        }
      ]
    },
    {
      "cell_type": "code",
      "metadata": {
        "id": "YieXbHHofiyt",
        "colab_type": "code",
        "colab": {
          "base_uri": "https://localhost:8080/",
          "height": 35
        },
        "outputId": "90c1ae5b-1e4b-4a88-985c-2c6b28eade9d"
      },
      "source": [
        "outputs.shape"
      ],
      "execution_count": 22,
      "outputs": [
        {
          "output_type": "execute_result",
          "data": {
            "text/plain": [
              "torch.Size([2, 4, 600])"
            ]
          },
          "metadata": {
            "tags": []
          },
          "execution_count": 22
        }
      ]
    },
    {
      "cell_type": "code",
      "metadata": {
        "id": "378m9ZBpflbt",
        "colab_type": "code",
        "colab": {}
      },
      "source": [
        ""
      ],
      "execution_count": 0,
      "outputs": []
    }
  ]
}