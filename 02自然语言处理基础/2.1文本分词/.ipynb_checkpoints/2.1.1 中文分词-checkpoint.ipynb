{
 "cells": [
  {
   "cell_type": "markdown",
   "metadata": {},
   "source": [
    "<font face=\"微软雅黑\" size=3 color=#A52A2A>\n",
    "    单词是语言中重要的基本元素。理解单词对于分析语言结构和语义具有重要的作用。因此，在机器阅读理解算法中，模型通常需要首先对语句和文本进行单词的分拆和解析。分词（tokenization）的任务是将文本以单词为基本单元进行划分。由于许多词语存在词型的重叠以及组合词的运用，解决歧义性是分词任务中的一个挑战。\n",
    "    <br><br>分词的第一步就是获得词汇表。由于许多中文词汇存在部分重叠现象，词汇表越大，分词歧义性出现的可能性就越大。因此需要在词汇表的规模和最终分词的质量之间寻找平衡点。这里介绍一种主流的中文分词方式——基于匹配的分词。\n",
    "    <br><br>正向最大匹配算法是其中一种常用算法，他的出发点是文本中出现的词一般是可以匹配的最长候选词。这一过程无需每次在词表中查找单词，可以使用哈希表（hash table）或字母树（trie）进行高效匹配。此外，可以采用逆向最大匹配算法进行改进。"
   ]
  },
  {
   "cell_type": "code",
   "execution_count": 1,
   "metadata": {},
   "outputs": [],
   "source": [
    "# 逆向最大匹配算法"
   ]
  },
  {
   "cell_type": "code",
   "execution_count": 22,
   "metadata": {},
   "outputs": [],
   "source": [
    "def backward_maximal_matching(s, vocab):\n",
    "    \"\"\"\n",
    "    s: 输入语句\n",
    "    vocab：词表\n",
    "    return：分词列表\n",
    "    \"\"\"\n",
    "    result = []\n",
    "    end_pos = len(s)\n",
    "    while end_pos > 0:\n",
    "        found = False\n",
    "        for start_pos in range(end_pos):\n",
    "            if s[start_pos: end_pos] in vocab:\n",
    "                # 找到最长匹配单词，放在分词结果最前面\n",
    "                result = [s[start_pos: end_pos]] + result\n",
    "                print(result)\n",
    "                found = True\n",
    "                break\n",
    "        if found:\n",
    "            print(found)\n",
    "            print(s[start_pos: end_pos])\n",
    "            end_pos = start_pos\n",
    "        else:\n",
    "            # 未找到匹配的单词，将单字作为词分出\n",
    "            result = [s[end_pos - 1]] + result\n",
    "            end_pos -= 1\n",
    "    return result"
   ]
  },
  {
   "cell_type": "code",
   "execution_count": 23,
   "metadata": {},
   "outputs": [],
   "source": [
    "# 测试"
   ]
  },
  {
   "cell_type": "code",
   "execution_count": 24,
   "metadata": {},
   "outputs": [],
   "source": [
    "s = '今天天气真不错'\n",
    "vocab = ['天气', '今天', '昨天', '真', '不错', '真实', '天天']"
   ]
  },
  {
   "cell_type": "code",
   "execution_count": 25,
   "metadata": {},
   "outputs": [
    {
     "name": "stdout",
     "output_type": "stream",
     "text": [
      "['不错']\n",
      "True\n",
      "不错\n",
      "['真', '不错']\n",
      "True\n",
      "真\n",
      "['天气', '真', '不错']\n",
      "True\n",
      "天气\n",
      "['今天', '天气', '真', '不错']\n",
      "True\n",
      "今天\n"
     ]
    },
    {
     "data": {
      "text/plain": [
       "['今天', '天气', '真', '不错']"
      ]
     },
     "execution_count": 25,
     "metadata": {},
     "output_type": "execute_result"
    }
   ],
   "source": [
    "backward_maximal_matching(s=s, vocab=vocab)"
   ]
  },
  {
   "cell_type": "code",
   "execution_count": null,
   "metadata": {},
   "outputs": [],
   "source": []
  }
 ],
 "metadata": {
  "kernelspec": {
   "display_name": "Python 3.6.5 64-bit ('MRC': conda)",
   "language": "python",
   "name": "python36564bitmrccondaf2fda53e5a1a4db7b763f220d2468ca5"
  },
  "language_info": {
   "codemirror_mode": {
    "name": "ipython",
    "version": 3
   },
   "file_extension": ".py",
   "mimetype": "text/x-python",
   "name": "python",
   "nbconvert_exporter": "python",
   "pygments_lexer": "ipython3",
   "version": "3.6.5"
  },
  "toc": {
   "base_numbering": 1,
   "nav_menu": {},
   "number_sections": true,
   "sideBar": true,
   "skip_h1_title": false,
   "title_cell": "Table of Contents",
   "title_sidebar": "Contents",
   "toc_cell": false,
   "toc_position": {},
   "toc_section_display": true,
   "toc_window_display": false
  }
 },
 "nbformat": 4,
 "nbformat_minor": 2
}
